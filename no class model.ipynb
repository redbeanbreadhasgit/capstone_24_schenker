{
 "cells": [
  {
   "cell_type": "code",
   "execution_count": 2,
   "metadata": {},
   "outputs": [],
   "source": [
    "import pandas as pd\n",
    "import numpy as np\n",
    "from os import listdir\n",
    "from os.path import isfile, join\n",
    "from collections import defaultdict\n",
    "import warnings\n",
    "warnings.filterwarnings('ignore')\n",
    "import re\n",
    "\n",
    "from nltk.tokenize import word_tokenize\n",
    "from nltk import pos_tag\n",
    "from nltk.corpus import stopwords\n",
    "from nltk.stem import WordNetLemmatizer\n",
    "from nltk.stem import PorterStemmer\n",
    "from nltk.corpus import wordnet\n",
    "\n",
    "from sklearn.preprocessing import LabelEncoder, MinMaxScaler\n",
    "from sklearn.feature_extraction.text import TfidfVectorizer\n",
    "from sklearn import model_selection, svm\n",
    "from sklearn.metrics import accuracy_score, classification_report, confusion_matrix, plot_confusion_matrix\n",
    "\n",
    "from imblearn.over_sampling import SMOTE\n",
    "from collections import Counter\n",
    "from imblearn.pipeline import Pipeline, make_pipeline\n",
    "from sklearn.compose import ColumnTransformer\n",
    "import pdftotext\n",
    "import pickle"
   ]
  },
  {
   "cell_type": "code",
   "execution_count": 3,
   "metadata": {},
   "outputs": [],
   "source": [
    "##### Functions for cleaning text, extracting skills #####\n",
    "# Get raw text from file\n",
    "def getRawText(filepath):\n",
    "    with open(filepath, \"rb\") as f:\n",
    "        pdf = pdftotext.PDF(f)\n",
    "    resume_text = (\"\\n\\n\".join(pdf))\n",
    "    return resume_text\n",
    "\n",
    "# STOPWORD REMOVAL\n",
    "def stopword(string):\n",
    "    a = [i for i in string.split() if i not in stopwords.words('english')]\n",
    "    return ' '.join(a)\n",
    "\n",
    "#LEMMATIZATION\n",
    "# Initialize the lemmatizer\n",
    "wl = WordNetLemmatizer()\n",
    " \n",
    "# This is a helper function to map NTLK position tags\n",
    "def get_wordnet_pos(tag):\n",
    "    if tag.startswith('J'):\n",
    "        return wordnet.ADJ\n",
    "    elif tag.startswith('V'):\n",
    "        return wordnet.VERB\n",
    "    elif tag.startswith('N'):\n",
    "        return wordnet.NOUN\n",
    "    elif tag.startswith('R'):\n",
    "        return wordnet.ADV\n",
    "    else:\n",
    "        return wordnet.NOUN\n",
    "    \n",
    "# Tokenize the sentence\n",
    "def lemmatizer(string):\n",
    "    # Get position tags\n",
    "    word_pos_tags = pos_tag(word_tokenize(string))\n",
    "    # Map the position tag and lemmatize the word/token\n",
    "    a = [wl.lemmatize(tag[0], get_wordnet_pos(tag[1])) for idx, tag in enumerate(word_pos_tags)]\n",
    "    return ' '.join(a)\n",
    "\n",
    "# Clean Text Function\n",
    "def getCleanText(text):\n",
    "    pat = '[a-zA-Z]+'\n",
    "    i = 0\n",
    "    newtext = ''\n",
    "    for EachLine in text:\n",
    "        newtext += EachLine.lower()\n",
    "    # newtext = remove_noneng_nonskill(newtext)\n",
    "    newtext = stopword(newtext)\n",
    "    newtext = lemmatizer(newtext)\n",
    "    # newtext = remove_noneng_nonskill(newtext)\n",
    "    newtext_lst = re.findall(pat, newtext)\n",
    "    # print(newtext_lst)\n",
    "    if len(newtext_lst) <= 20:\n",
    "        return \" \".join(newtext_lst[0:len(newtext_lst)])\n",
    "    else:\n",
    "        return \" \".join(newtext_lst[9:len(newtext_lst)])"
   ]
  },
  {
   "cell_type": "code",
   "execution_count": 4,
   "metadata": {},
   "outputs": [
    {
     "name": "stdout",
     "output_type": "stream",
     "text": [
      "3\n",
      "134\n"
     ]
    }
   ],
   "source": [
    "# change the file paths accordingly to where the files will be\n",
    "jd_path = \"/Users/weils/Downloads/Telegram Desktop/Final Model for Integration/files/jd/\"\n",
    "resume_path = \"/Users/weils/Downloads/Telegram Desktop/Final Model for Integration/files/resume/\"\n",
    "\n",
    "jd_files = [f for f in listdir(jd_path) if \".pdf\" in f]\n",
    "resume_files = [f for f in listdir(resume_path) if \".pdf\" in f]\n",
    "\n",
    "print(len(jd_files))\n",
    "print(len(resume_files))"
   ]
  },
  {
   "cell_type": "code",
   "execution_count": 5,
   "metadata": {},
   "outputs": [],
   "source": [
    "def getLabel (filename):\n",
    "    if \"Not Suitable\" in filename or \"Rejected\" in filename:\n",
    "        return 0\n",
    "    else:\n",
    "        return 1\n",
    "\n",
    "def getJobFileName(resume_filename):\n",
    "    if \"Field Support\" in resume_filename:\n",
    "        return \"Job Description - Field Support Engineer.pdf\"\n",
    "    elif \"System Analyst\" in resume_filename:\n",
    "        return \"Job Description - System Analyst.pdf\"\n",
    "    else:\n",
    "        return \"Job Description - GPIS Executive.pdf\""
   ]
  },
  {
   "cell_type": "code",
   "execution_count": 22,
   "metadata": {},
   "outputs": [
    {
     "name": "stdout",
     "output_type": "stream",
     "text": [
      "                                               JD Text  \\\n",
      "0    manager source best rate shipment feedback bus...   \n",
      "1    manager source best rate shipment feedback bus...   \n",
      "2    manager source best rate shipment feedback bus...   \n",
      "3    manager source best rate shipment feedback bus...   \n",
      "4    manager source best rate shipment feedback bus...   \n",
      "..                                                 ...   \n",
      "129  manager source best rate shipment feedback bus...   \n",
      "130  manager source best rate shipment feedback bus...   \n",
      "131  manager source best rate shipment feedback bus...   \n",
      "132  manager source best rate shipment feedback bus...   \n",
      "133  manager source best rate shipment feedback bus...   \n",
      "\n",
      "                                           Resume Text  Label  \n",
      "0    pte ltd july present receiving shipping coordi...      0  \n",
      "1    portal baan system acrobat adobe microsoft off...      0  \n",
      "2    compliance officer investigate recommend enfor...      0  \n",
      "3    freight forward branch different key role hone...      0  \n",
      "4    j u l p r e se n main con shopee handle parcel...      0  \n",
      "..                                                 ...    ...  \n",
      "129  freight experience able demonstrate ability cr...      0  \n",
      "130  ability tackle problem various dynamic situatu...      0  \n",
      "131  management logistics optimisation forecast dem...      0  \n",
      "132  ite college east april april high nitec certif...      0  \n",
      "133  management present diploma mass communication ...      0  \n",
      "\n",
      "[134 rows x 3 columns]\n"
     ]
    }
   ],
   "source": [
    "output = []\n",
    "for resume in resume_files:\n",
    "    jobfilename = getJobFileName(resume)\n",
    "    jd_text = getRawText(jd_path + jobfilename)\n",
    "    resume_text = getRawText(resume_path + resume)\n",
    "    \n",
    "    jd_cleaned_text = getCleanText(jd_text)\n",
    "    resume_cleaned_text = getCleanText(resume_text)\n",
    "    label = getLabel(resume)\n",
    "\n",
    "    data = [jd_cleaned_text, resume_cleaned_text, label]\n",
    "    output.append(data)\n",
    "\n",
    "data = pd.DataFrame(output, columns = [\"JD Text\", \"Resume Text\", \"Label\"])\n",
    "print(data)"
   ]
  },
  {
   "cell_type": "code",
   "execution_count": 7,
   "metadata": {},
   "outputs": [],
   "source": [
    "X, y = data[[\"JD Text\", \"Resume Text\"]], data[\"Label\"]"
   ]
  },
  {
   "cell_type": "code",
   "execution_count": 8,
   "metadata": {},
   "outputs": [
    {
     "name": "stdout",
     "output_type": "stream",
     "text": [
      "(107, 2)\n",
      "(107,)\n"
     ]
    }
   ],
   "source": [
    "X_train, X_test, y_train, y_test = model_selection.train_test_split(X, y, test_size=0.2, random_state=42, stratify=y)\n",
    "print(np.shape(X_train))\n",
    "print(np.shape(y_train))"
   ]
  },
  {
   "cell_type": "code",
   "execution_count": 9,
   "metadata": {},
   "outputs": [],
   "source": [
    "# since there are 2 columns of text data, just using TfidfVectorizer() in the pipeline does not work\n",
    "# source: https://stackoverflow.com/questions/67768470/valueerror-found-input-variables-with-inconsistent-numbers-of-samples-6-80\n",
    "\n",
    "transformer = ColumnTransformer(\n",
    "    [('jd', TfidfVectorizer(), \"JD Text\"),  # col_1 should be a string or int\n",
    "     ('resume', TfidfVectorizer(), \"Resume Text\")],   # col_n should be a string or int\n",
    "    remainder='passthrough')\n",
    "    \n",
    "textclassifier = Pipeline([\n",
    "   ('tfidf', transformer),\n",
    "   ('smote', SMOTE(sampling_strategy='not majority', k_neighbors=2, random_state=42)),\n",
    "   ('svm', svm.SVC(kernel='poly', gamma='auto', probability = True))\n",
    "])"
   ]
  },
  {
   "cell_type": "code",
   "execution_count": 10,
   "metadata": {},
   "outputs": [
    {
     "data": {
      "text/html": [
       "<style>#sk-container-id-1 {color: black;background-color: white;}#sk-container-id-1 pre{padding: 0;}#sk-container-id-1 div.sk-toggleable {background-color: white;}#sk-container-id-1 label.sk-toggleable__label {cursor: pointer;display: block;width: 100%;margin-bottom: 0;padding: 0.3em;box-sizing: border-box;text-align: center;}#sk-container-id-1 label.sk-toggleable__label-arrow:before {content: \"▸\";float: left;margin-right: 0.25em;color: #696969;}#sk-container-id-1 label.sk-toggleable__label-arrow:hover:before {color: black;}#sk-container-id-1 div.sk-estimator:hover label.sk-toggleable__label-arrow:before {color: black;}#sk-container-id-1 div.sk-toggleable__content {max-height: 0;max-width: 0;overflow: hidden;text-align: left;background-color: #f0f8ff;}#sk-container-id-1 div.sk-toggleable__content pre {margin: 0.2em;color: black;border-radius: 0.25em;background-color: #f0f8ff;}#sk-container-id-1 input.sk-toggleable__control:checked~div.sk-toggleable__content {max-height: 200px;max-width: 100%;overflow: auto;}#sk-container-id-1 input.sk-toggleable__control:checked~label.sk-toggleable__label-arrow:before {content: \"▾\";}#sk-container-id-1 div.sk-estimator input.sk-toggleable__control:checked~label.sk-toggleable__label {background-color: #d4ebff;}#sk-container-id-1 div.sk-label input.sk-toggleable__control:checked~label.sk-toggleable__label {background-color: #d4ebff;}#sk-container-id-1 input.sk-hidden--visually {border: 0;clip: rect(1px 1px 1px 1px);clip: rect(1px, 1px, 1px, 1px);height: 1px;margin: -1px;overflow: hidden;padding: 0;position: absolute;width: 1px;}#sk-container-id-1 div.sk-estimator {font-family: monospace;background-color: #f0f8ff;border: 1px dotted black;border-radius: 0.25em;box-sizing: border-box;margin-bottom: 0.5em;}#sk-container-id-1 div.sk-estimator:hover {background-color: #d4ebff;}#sk-container-id-1 div.sk-parallel-item::after {content: \"\";width: 100%;border-bottom: 1px solid gray;flex-grow: 1;}#sk-container-id-1 div.sk-label:hover label.sk-toggleable__label {background-color: #d4ebff;}#sk-container-id-1 div.sk-serial::before {content: \"\";position: absolute;border-left: 1px solid gray;box-sizing: border-box;top: 0;bottom: 0;left: 50%;z-index: 0;}#sk-container-id-1 div.sk-serial {display: flex;flex-direction: column;align-items: center;background-color: white;padding-right: 0.2em;padding-left: 0.2em;position: relative;}#sk-container-id-1 div.sk-item {position: relative;z-index: 1;}#sk-container-id-1 div.sk-parallel {display: flex;align-items: stretch;justify-content: center;background-color: white;position: relative;}#sk-container-id-1 div.sk-item::before, #sk-container-id-1 div.sk-parallel-item::before {content: \"\";position: absolute;border-left: 1px solid gray;box-sizing: border-box;top: 0;bottom: 0;left: 50%;z-index: -1;}#sk-container-id-1 div.sk-parallel-item {display: flex;flex-direction: column;z-index: 1;position: relative;background-color: white;}#sk-container-id-1 div.sk-parallel-item:first-child::after {align-self: flex-end;width: 50%;}#sk-container-id-1 div.sk-parallel-item:last-child::after {align-self: flex-start;width: 50%;}#sk-container-id-1 div.sk-parallel-item:only-child::after {width: 0;}#sk-container-id-1 div.sk-dashed-wrapped {border: 1px dashed gray;margin: 0 0.4em 0.5em 0.4em;box-sizing: border-box;padding-bottom: 0.4em;background-color: white;}#sk-container-id-1 div.sk-label label {font-family: monospace;font-weight: bold;display: inline-block;line-height: 1.2em;}#sk-container-id-1 div.sk-label-container {text-align: center;}#sk-container-id-1 div.sk-container {/* jupyter's `normalize.less` sets `[hidden] { display: none; }` but bootstrap.min.css set `[hidden] { display: none !important; }` so we also need the `!important` here to be able to override the default hidden behavior on the sphinx rendered scikit-learn.org. See: https://github.com/scikit-learn/scikit-learn/issues/21755 */display: inline-block !important;position: relative;}#sk-container-id-1 div.sk-text-repr-fallback {display: none;}</style><div id=\"sk-container-id-1\" class=\"sk-top-container\"><div class=\"sk-text-repr-fallback\"><pre>Pipeline(steps=[(&#x27;tfidf&#x27;,\n",
       "                 ColumnTransformer(remainder=&#x27;passthrough&#x27;,\n",
       "                                   transformers=[(&#x27;jd&#x27;, TfidfVectorizer(),\n",
       "                                                  &#x27;JD Text&#x27;),\n",
       "                                                 (&#x27;resume&#x27;, TfidfVectorizer(),\n",
       "                                                  &#x27;Resume Text&#x27;)])),\n",
       "                (&#x27;smote&#x27;,\n",
       "                 SMOTE(k_neighbors=2, random_state=42,\n",
       "                       sampling_strategy=&#x27;not majority&#x27;)),\n",
       "                (&#x27;svm&#x27;, SVC(gamma=&#x27;auto&#x27;, kernel=&#x27;poly&#x27;, probability=True))])</pre><b>In a Jupyter environment, please rerun this cell to show the HTML representation or trust the notebook. <br />On GitHub, the HTML representation is unable to render, please try loading this page with nbviewer.org.</b></div><div class=\"sk-container\" hidden><div class=\"sk-item sk-dashed-wrapped\"><div class=\"sk-label-container\"><div class=\"sk-label sk-toggleable\"><input class=\"sk-toggleable__control sk-hidden--visually\" id=\"sk-estimator-id-1\" type=\"checkbox\" ><label for=\"sk-estimator-id-1\" class=\"sk-toggleable__label sk-toggleable__label-arrow\">Pipeline</label><div class=\"sk-toggleable__content\"><pre>Pipeline(steps=[(&#x27;tfidf&#x27;,\n",
       "                 ColumnTransformer(remainder=&#x27;passthrough&#x27;,\n",
       "                                   transformers=[(&#x27;jd&#x27;, TfidfVectorizer(),\n",
       "                                                  &#x27;JD Text&#x27;),\n",
       "                                                 (&#x27;resume&#x27;, TfidfVectorizer(),\n",
       "                                                  &#x27;Resume Text&#x27;)])),\n",
       "                (&#x27;smote&#x27;,\n",
       "                 SMOTE(k_neighbors=2, random_state=42,\n",
       "                       sampling_strategy=&#x27;not majority&#x27;)),\n",
       "                (&#x27;svm&#x27;, SVC(gamma=&#x27;auto&#x27;, kernel=&#x27;poly&#x27;, probability=True))])</pre></div></div></div><div class=\"sk-serial\"><div class=\"sk-item sk-dashed-wrapped\"><div class=\"sk-label-container\"><div class=\"sk-label sk-toggleable\"><input class=\"sk-toggleable__control sk-hidden--visually\" id=\"sk-estimator-id-2\" type=\"checkbox\" ><label for=\"sk-estimator-id-2\" class=\"sk-toggleable__label sk-toggleable__label-arrow\">tfidf: ColumnTransformer</label><div class=\"sk-toggleable__content\"><pre>ColumnTransformer(remainder=&#x27;passthrough&#x27;,\n",
       "                  transformers=[(&#x27;jd&#x27;, TfidfVectorizer(), &#x27;JD Text&#x27;),\n",
       "                                (&#x27;resume&#x27;, TfidfVectorizer(), &#x27;Resume Text&#x27;)])</pre></div></div></div><div class=\"sk-parallel\"><div class=\"sk-parallel-item\"><div class=\"sk-item\"><div class=\"sk-label-container\"><div class=\"sk-label sk-toggleable\"><input class=\"sk-toggleable__control sk-hidden--visually\" id=\"sk-estimator-id-3\" type=\"checkbox\" ><label for=\"sk-estimator-id-3\" class=\"sk-toggleable__label sk-toggleable__label-arrow\">jd</label><div class=\"sk-toggleable__content\"><pre>JD Text</pre></div></div></div><div class=\"sk-serial\"><div class=\"sk-item\"><div class=\"sk-estimator sk-toggleable\"><input class=\"sk-toggleable__control sk-hidden--visually\" id=\"sk-estimator-id-4\" type=\"checkbox\" ><label for=\"sk-estimator-id-4\" class=\"sk-toggleable__label sk-toggleable__label-arrow\">TfidfVectorizer</label><div class=\"sk-toggleable__content\"><pre>TfidfVectorizer()</pre></div></div></div></div></div></div><div class=\"sk-parallel-item\"><div class=\"sk-item\"><div class=\"sk-label-container\"><div class=\"sk-label sk-toggleable\"><input class=\"sk-toggleable__control sk-hidden--visually\" id=\"sk-estimator-id-5\" type=\"checkbox\" ><label for=\"sk-estimator-id-5\" class=\"sk-toggleable__label sk-toggleable__label-arrow\">resume</label><div class=\"sk-toggleable__content\"><pre>Resume Text</pre></div></div></div><div class=\"sk-serial\"><div class=\"sk-item\"><div class=\"sk-estimator sk-toggleable\"><input class=\"sk-toggleable__control sk-hidden--visually\" id=\"sk-estimator-id-6\" type=\"checkbox\" ><label for=\"sk-estimator-id-6\" class=\"sk-toggleable__label sk-toggleable__label-arrow\">TfidfVectorizer</label><div class=\"sk-toggleable__content\"><pre>TfidfVectorizer()</pre></div></div></div></div></div></div><div class=\"sk-parallel-item\"><div class=\"sk-item\"><div class=\"sk-label-container\"><div class=\"sk-label sk-toggleable\"><input class=\"sk-toggleable__control sk-hidden--visually\" id=\"sk-estimator-id-7\" type=\"checkbox\" ><label for=\"sk-estimator-id-7\" class=\"sk-toggleable__label sk-toggleable__label-arrow\">remainder</label><div class=\"sk-toggleable__content\"><pre>[]</pre></div></div></div><div class=\"sk-serial\"><div class=\"sk-item\"><div class=\"sk-estimator sk-toggleable\"><input class=\"sk-toggleable__control sk-hidden--visually\" id=\"sk-estimator-id-8\" type=\"checkbox\" ><label for=\"sk-estimator-id-8\" class=\"sk-toggleable__label sk-toggleable__label-arrow\">passthrough</label><div class=\"sk-toggleable__content\"><pre>passthrough</pre></div></div></div></div></div></div></div></div><div class=\"sk-item\"><div class=\"sk-estimator sk-toggleable\"><input class=\"sk-toggleable__control sk-hidden--visually\" id=\"sk-estimator-id-9\" type=\"checkbox\" ><label for=\"sk-estimator-id-9\" class=\"sk-toggleable__label sk-toggleable__label-arrow\">SMOTE</label><div class=\"sk-toggleable__content\"><pre>SMOTE(k_neighbors=2, random_state=42, sampling_strategy=&#x27;not majority&#x27;)</pre></div></div></div><div class=\"sk-item\"><div class=\"sk-estimator sk-toggleable\"><input class=\"sk-toggleable__control sk-hidden--visually\" id=\"sk-estimator-id-10\" type=\"checkbox\" ><label for=\"sk-estimator-id-10\" class=\"sk-toggleable__label sk-toggleable__label-arrow\">SVC</label><div class=\"sk-toggleable__content\"><pre>SVC(gamma=&#x27;auto&#x27;, kernel=&#x27;poly&#x27;, probability=True)</pre></div></div></div></div></div></div></div>"
      ],
      "text/plain": [
       "Pipeline(steps=[('tfidf',\n",
       "                 ColumnTransformer(remainder='passthrough',\n",
       "                                   transformers=[('jd', TfidfVectorizer(),\n",
       "                                                  'JD Text'),\n",
       "                                                 ('resume', TfidfVectorizer(),\n",
       "                                                  'Resume Text')])),\n",
       "                ('smote',\n",
       "                 SMOTE(k_neighbors=2, random_state=42,\n",
       "                       sampling_strategy='not majority')),\n",
       "                ('svm', SVC(gamma='auto', kernel='poly', probability=True))])"
      ]
     },
     "execution_count": 10,
     "metadata": {},
     "output_type": "execute_result"
    }
   ],
   "source": [
    "textclassifier.fit(X_train, y_train)"
   ]
  },
  {
   "cell_type": "code",
   "execution_count": 49,
   "metadata": {},
   "outputs": [
    {
     "name": "stdout",
     "output_type": "stream",
     "text": [
      "[1 0 0 0 0 0 0 0 0 0 0 0 0 0 0 0 0 0 1 0 0 0 0 0 0 0 0]\n",
      "              precision    recall  f1-score   support\n",
      "\n",
      "           0       0.68      0.94      0.79        18\n",
      "           1       0.50      0.11      0.18         9\n",
      "\n",
      "    accuracy                           0.67        27\n",
      "   macro avg       0.59      0.53      0.49        27\n",
      "weighted avg       0.62      0.67      0.59        27\n",
      "\n",
      "SVM Accuracy Score ->  66.66666666666666\n",
      "Cross Validation accuracy scores: [0.81818182 0.81818182 0.63636364 0.45454545 0.81818182 0.72727273\n",
      " 0.72727273 0.8        0.7        0.7       ]\n",
      "Cross Validation accuracy: 0.720 +/- 0.107\n"
     ]
    },
    {
     "data": {
      "image/png": "[encoded data removed]",
      "text/plain": [
       "<Figure size 432x288 with 2 Axes>"
      ]
     },
     "metadata": {
      "needs_background": "light"
     },
     "output_type": "display_data"
    }
   ],
   "source": [
    "# predict the labels on validation dataset\n",
    "predictions = textclassifier.predict(X_test)\n",
    "print(predictions)\n",
    "\n",
    "# Classification report\n",
    "print(classification_report(y_test, predictions))\n",
    "\n",
    "# Use accuracy_score function to get the accuracy\n",
    "print(\"SVM Accuracy Score -> \", accuracy_score(predictions, y_test)*100)\n",
    "\n",
    "# Confusion matrix\n",
    "plot_confusion_matrix(textclassifier, X_test, y_test)\n",
    "\n",
    "scores = model_selection.cross_val_score(textclassifier, X_train, y_train, cv=10, n_jobs=1)\n",
    "print('Cross Validation accuracy scores: %s' % scores)\n",
    "print('Cross Validation accuracy: %.3f +/- %.3f' % (np.mean(scores),np.std(scores)))"
   ]
  },
  {
   "cell_type": "code",
   "execution_count": 12,
   "metadata": {},
   "outputs": [],
   "source": [
    "# save the trained model into a pickle file\n",
    "no_class_model = pickle.dump(textclassifier, open('no_class_model.pkl', 'wb'))"
   ]
  },
  {
   "cell_type": "code",
   "execution_count": 14,
   "metadata": {},
   "outputs": [],
   "source": [
    "# load the pickle file\n",
    "loaded_classifier = pickle.load(open('no_class_model.pkl', 'rb'))"
   ]
  },
  {
   "cell_type": "code",
   "execution_count": 46,
   "metadata": {},
   "outputs": [],
   "source": [
    "### test to see if the pickle file works\n",
    "# get jd text\n",
    "raw_jd = getRawText(\"Job Description - Field Support Engineer.pdf\")\n",
    "clean_jd = getCleanText(raw_jd)\n",
    "\n",
    "# get resume text\n",
    "raw_resume = getRawText(\"Sample Field Support CV 1 (ML - Selected).pdf\")\n",
    "clean_resume = getCleanText(raw_resume)\n",
    "\n",
    "X_predict = [clean_jd, clean_resume]\n",
    "X_predict = pd.DataFrame([X_predict], columns=[\"JD Text\", \"Resume Text\"])\n"
   ]
  },
  {
   "cell_type": "code",
   "execution_count": 47,
   "metadata": {},
   "outputs": [],
   "source": [
    "pkl_predictions = loaded_classifier.predict(X_predict)"
   ]
  },
  {
   "cell_type": "code",
   "execution_count": 48,
   "metadata": {},
   "outputs": [
    {
     "name": "stdout",
     "output_type": "stream",
     "text": [
      "[0]\n"
     ]
    }
   ],
   "source": [
    "print(pkl_predictions)"
   ]
  }
 ],
 "metadata": {
  "kernelspec": {
   "display_name": "Python 3.9.7 64-bit",
   "language": "python",
   "name": "python3"
  },
  "language_info": {
   "codemirror_mode": {
    "name": "ipython",
    "version": 3
   },
   "file_extension": ".py",
   "mimetype": "text/x-python",
   "name": "python",
   "nbconvert_exporter": "python",
   "pygments_lexer": "ipython3",
   "version": "3.9.7"
  },
  "orig_nbformat": 4,
  "vscode": {
   "interpreter": {
    "hash": "b0fa6594d8f4cbf19f97940f81e996739fb7646882a419484c72d19e05852a7e"
   }
  }
 },
 "nbformat": 4,
 "nbformat_minor": 2
}

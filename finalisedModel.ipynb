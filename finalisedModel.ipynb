{
 "cells": [
  {
   "cell_type": "markdown",
   "id": "58a9bb8e",
   "metadata": {},
   "source": [
    "# This notebook is intended to show the finalised model for the algorithm subsystem."
   ]
  },
  {
   "cell_type": "code",
   "execution_count": 1,
   "id": "1b614e94",
   "metadata": {},
   "outputs": [],
   "source": [
    "import pandas as pd\n",
    "import numpy as np\n",
    "from os import listdir\n",
    "from os.path import isfile, join\n",
    "from collections import defaultdict\n",
    "import warnings\n",
    "warnings.filterwarnings('ignore')\n",
    "import re\n",
    "\n",
    "from nltk.tokenize import word_tokenize\n",
    "from nltk import pos_tag\n",
    "from nltk.corpus import stopwords\n",
    "from nltk.stem import WordNetLemmatizer\n",
    "# from nltk.stem import PorterStemmer\n",
    "from nltk.corpus import wordnet\n",
    "\n",
    "from sklearn.preprocessing import LabelEncoder, MinMaxScaler\n",
    "from sklearn.feature_extraction.text import TfidfVectorizer\n",
    "from sklearn import model_selection, svm\n",
    "from sklearn.metrics import accuracy_score, classification_report, confusion_matrix, plot_confusion_matrix, precision_recall_fscore_support\n",
    "\n",
    "from imblearn.over_sampling import SMOTE\n",
    "from collections import Counter\n",
    "\n",
    "import pickle"
   ]
  },
  {
   "cell_type": "markdown",
   "id": "adaa512b",
   "metadata": {},
   "source": [
    "# Steps for Algorithm:\n",
    "\n",
    "1. Converting PDF résumés to .txt format\n",
    "2. Extract and clean text from .txt résumés into string\n",
    "3. Extract skills from string\n",
    "4. Use TF-IDF to vectorize string\n",
    "5. SVM model predicts applicant’s suitability using vectorized string\n",
    "6. Packaged model"
   ]
  },
  {
   "cell_type": "markdown",
   "id": "b2eecb46",
   "metadata": {},
   "source": [
    "# Step 1: Convert PDF Resume to TXT"
   ]
  },
  {
   "cell_type": "markdown",
   "id": "31df5b28",
   "metadata": {},
   "source": [
    "### folder_path will be directory where you store resumes"
   ]
  },
  {
   "cell_type": "code",
   "execution_count": 2,
   "id": "f6786f09",
   "metadata": {},
   "outputs": [
    {
     "data": {
      "text/plain": [
       "['Field Support Not Suitable - 1.pdf',\n",
       " 'Field Support Not Suitable - 2.pdf',\n",
       " 'Field Support Not Suitable - 3.pdf',\n",
       " 'Field Support Suitable - 1.pdf',\n",
       " 'Field Support Suitable - 2.pdf',\n",
       " 'Field Support Suitable - 3.pdf',\n",
       " 'Field Support Suitable - 4.pdf',\n",
       " 'Field Support Suitable - 5.pdf',\n",
       " 'Field Support Suitable - 6.pdf',\n",
       " 'GPIS Executive Not Suitable - 1.pdf',\n",
       " 'GPIS Executive Not Suitable - 10.pdf',\n",
       " 'GPIS Executive Not Suitable - 11.pdf',\n",
       " 'GPIS Executive Not Suitable - 12.pdf',\n",
       " 'GPIS Executive Not Suitable - 13.pdf',\n",
       " 'GPIS Executive Not Suitable - 14.pdf',\n",
       " 'GPIS Executive Not Suitable - 15.pdf',\n",
       " 'GPIS Executive Not Suitable - 16.pdf',\n",
       " 'GPIS Executive Not Suitable - 17.pdf',\n",
       " 'GPIS Executive Not Suitable - 18.pdf',\n",
       " 'GPIS Executive Not Suitable - 19.pdf',\n",
       " 'GPIS Executive Not Suitable - 2.pdf',\n",
       " 'GPIS Executive Not Suitable - 20.pdf',\n",
       " 'GPIS Executive Not Suitable - 21.pdf',\n",
       " 'GPIS Executive Not Suitable - 22.pdf',\n",
       " 'GPIS Executive Not Suitable - 23.pdf',\n",
       " 'GPIS Executive Not Suitable - 24.pdf',\n",
       " 'GPIS Executive Not Suitable - 25.pdf',\n",
       " 'GPIS Executive Not Suitable - 26.pdf',\n",
       " 'GPIS Executive Not Suitable - 27.pdf',\n",
       " 'GPIS Executive Not Suitable - 28.pdf',\n",
       " 'GPIS Executive Not Suitable - 29.pdf',\n",
       " 'GPIS Executive Not Suitable - 3.pdf',\n",
       " 'GPIS Executive Not Suitable - 30.pdf',\n",
       " 'GPIS Executive Not Suitable - 31.pdf',\n",
       " 'GPIS Executive Not Suitable - 32.pdf',\n",
       " 'GPIS Executive Not Suitable - 33.pdf',\n",
       " 'GPIS Executive Not Suitable - 34.pdf',\n",
       " 'GPIS Executive Not Suitable - 35.pdf',\n",
       " 'GPIS Executive Not Suitable - 36.pdf',\n",
       " 'GPIS Executive Not Suitable - 37.pdf',\n",
       " 'GPIS Executive Not Suitable - 38.pdf',\n",
       " 'GPIS Executive Not Suitable - 39.pdf',\n",
       " 'GPIS Executive Not Suitable - 4.pdf',\n",
       " 'GPIS Executive Not Suitable - 40.pdf',\n",
       " 'GPIS Executive Not Suitable - 41.pdf',\n",
       " 'GPIS Executive Not Suitable - 42.pdf',\n",
       " 'GPIS Executive Not Suitable - 43.pdf',\n",
       " 'GPIS Executive Not Suitable - 44.pdf',\n",
       " 'GPIS Executive Not Suitable - 45.pdf',\n",
       " 'GPIS Executive Not Suitable - 46.pdf',\n",
       " 'GPIS Executive Not Suitable - 47.pdf',\n",
       " 'GPIS Executive Not Suitable - 48.pdf',\n",
       " 'GPIS Executive Not Suitable - 49.pdf',\n",
       " 'GPIS Executive Not Suitable - 5.pdf',\n",
       " 'GPIS Executive Not Suitable - 50.pdf',\n",
       " 'GPIS Executive Not Suitable - 51.pdf',\n",
       " 'GPIS Executive Not Suitable - 52.pdf',\n",
       " 'GPIS Executive Not Suitable - 53.pdf',\n",
       " 'GPIS Executive Not Suitable - 54.pdf',\n",
       " 'GPIS Executive Not Suitable - 55.pdf',\n",
       " 'GPIS Executive Not Suitable - 56.pdf',\n",
       " 'GPIS Executive Not Suitable - 57.pdf',\n",
       " 'GPIS Executive Not Suitable - 58.pdf',\n",
       " 'GPIS Executive Not Suitable - 59.pdf',\n",
       " 'GPIS Executive Not Suitable - 6.pdf',\n",
       " 'GPIS Executive Not Suitable - 60.pdf',\n",
       " 'GPIS Executive Not Suitable - 61.pdf',\n",
       " 'GPIS Executive Not Suitable - 62.pdf',\n",
       " 'GPIS Executive Not Suitable - 63.pdf',\n",
       " 'GPIS Executive Not Suitable - 64.pdf',\n",
       " 'GPIS Executive Not Suitable - 65.pdf',\n",
       " 'GPIS Executive Not Suitable - 66.pdf',\n",
       " 'GPIS Executive Not Suitable - 67.pdf',\n",
       " 'GPIS Executive Not Suitable - 68.pdf',\n",
       " 'GPIS Executive Not Suitable - 69.pdf',\n",
       " 'GPIS Executive Not Suitable - 7.pdf',\n",
       " 'GPIS Executive Not Suitable - 70.pdf',\n",
       " 'GPIS Executive Not Suitable - 71.pdf',\n",
       " 'GPIS Executive Not Suitable - 72.pdf',\n",
       " 'GPIS Executive Not Suitable - 73.pdf',\n",
       " 'GPIS Executive Not Suitable - 74.pdf',\n",
       " 'GPIS Executive Not Suitable - 75.pdf',\n",
       " 'GPIS Executive Not Suitable - 76.pdf',\n",
       " 'GPIS Executive Not Suitable - 77.pdf',\n",
       " 'GPIS Executive Not Suitable - 78.pdf',\n",
       " 'GPIS Executive Not Suitable - 79.pdf',\n",
       " 'GPIS Executive Not Suitable - 8.pdf',\n",
       " 'GPIS Executive Not Suitable - 80.pdf',\n",
       " 'GPIS Executive Not Suitable - 81.pdf',\n",
       " 'GPIS Executive Not Suitable - 82.pdf',\n",
       " 'GPIS Executive Not Suitable - 83.pdf',\n",
       " 'GPIS Executive Not Suitable - 9.pdf',\n",
       " 'GPIS Executive Suitable and Shortlisted and Offered - 1.pdf',\n",
       " 'GPIS Executive Suitable and Shortlisted and Offered - 2.pdf',\n",
       " 'GPIS Executive Suitable and Shortlisted and Offered - 3.pdf',\n",
       " 'GPIS Executive Suitable and Shortlisted and Offered - 4.pdf',\n",
       " 'GPIS Executive Suitable and Shortlisted and Offered - 5.pdf',\n",
       " 'GPIS Executive Suitable and Shortlisted and Offered - 6.pdf',\n",
       " 'GPIS Executive Suitable and Shortlisted not Offered - 1.pdf',\n",
       " 'GPIS Executive Suitable and Shortlisted not Offered - 2.pdf',\n",
       " 'GPIS Executive Suitable and Shortlisted not Offered - 3.pdf',\n",
       " 'GPIS Executive Suitable and Shortlisted not Offered - 4.pdf',\n",
       " 'GPIS Executive Suitable and Shortlisted not Offered - 5.pdf',\n",
       " 'GPIS Executive Suitable and Shortlisted not Offered - 6.pdf',\n",
       " 'GPIS Executive Suitable and Shortlisted not Offered - 7.pdf',\n",
       " 'GPIS Executive Suitable and Shortlisted not Offered - 8.pdf',\n",
       " 'GPIS Executive Suitable not Shortlisted - 1.pdf',\n",
       " 'GPIS Executive Suitable not Shortlisted - 11.pdf',\n",
       " 'GPIS Executive Suitable not Shortlisted - 12.pdf',\n",
       " 'GPIS Executive Suitable not Shortlisted - 13.pdf',\n",
       " 'GPIS Executive Suitable not Shortlisted - 14.pdf',\n",
       " 'GPIS Executive Suitable not Shortlisted - 15.pdf',\n",
       " 'GPIS Executive Suitable not Shortlisted - 16.pdf',\n",
       " 'GPIS Executive Suitable not Shortlisted - 17.pdf',\n",
       " 'GPIS Executive Suitable not Shortlisted - 18.pdf',\n",
       " 'GPIS Executive Suitable not Shortlisted - 19.pdf',\n",
       " 'GPIS Executive Suitable not Shortlisted - 2.pdf',\n",
       " 'GPIS Executive Suitable not Shortlisted - 20.pdf',\n",
       " 'GPIS Executive Suitable not Shortlisted - 21.pdf',\n",
       " 'GPIS Executive Suitable not Shortlisted - 22.pdf',\n",
       " 'GPIS Executive Suitable not Shortlisted - 23.pdf',\n",
       " 'GPIS Executive Suitable not Shortlisted - 24.pdf',\n",
       " 'GPIS Executive Suitable not Shortlisted - 25.pdf',\n",
       " 'GPIS Executive Suitable not Shortlisted - 26.pdf',\n",
       " 'GPIS Executive Suitable not Shortlisted - 27.pdf',\n",
       " 'GPIS Executive Suitable not Shortlisted - 28.pdf',\n",
       " 'GPIS Executive Suitable not Shortlisted - 29.pdf',\n",
       " 'GPIS Executive Suitable not Shortlisted - 3.pdf',\n",
       " 'GPIS Executive Suitable not Shortlisted - 30.pdf',\n",
       " 'GPIS Executive Suitable not Shortlisted - 4.pdf',\n",
       " 'GPIS Executive Suitable not Shortlisted - 5.pdf',\n",
       " 'GPIS Executive Suitable not Shortlisted - 6.pdf',\n",
       " 'GPIS Executive Suitable not Shortlisted - 7.pdf',\n",
       " 'System Analyst Not Suitable - 1.pdf',\n",
       " 'System Analyst Not Suitable - 10.pdf',\n",
       " 'System Analyst Not Suitable - 11.pdf',\n",
       " 'System Analyst Not Suitable - 12.pdf',\n",
       " 'System Analyst Not Suitable - 13.pdf',\n",
       " 'System Analyst Not Suitable - 14.pdf',\n",
       " 'System Analyst Not Suitable - 15.pdf',\n",
       " 'System Analyst Not Suitable - 16.pdf',\n",
       " 'System Analyst Not Suitable - 17.pdf',\n",
       " 'System Analyst Not Suitable - 18.pdf',\n",
       " 'System Analyst Not Suitable - 19.pdf',\n",
       " 'System Analyst Not Suitable - 2.pdf',\n",
       " 'System Analyst Not Suitable - 20.pdf',\n",
       " 'System Analyst Not Suitable - 21.pdf',\n",
       " 'System Analyst Not Suitable - 22.pdf',\n",
       " 'System Analyst Not Suitable - 23.pdf',\n",
       " 'System Analyst Not Suitable - 3.pdf',\n",
       " 'System Analyst Not Suitable - 4.pdf',\n",
       " 'System Analyst Not Suitable - 5.pdf',\n",
       " 'System Analyst Not Suitable - 6.pdf',\n",
       " 'System Analyst Not Suitable - 7.pdf',\n",
       " 'System Analyst Not Suitable - 8.pdf',\n",
       " 'System Analyst Not Suitable - 9.pdf',\n",
       " 'System Analyst Suitable - 1.pdf',\n",
       " 'System Analyst Suitable - 2.pdf',\n",
       " 'System Analyst Suitable - 3.pdf',\n",
       " 'System Analyst Suitable - 4.pdf',\n",
       " 'System Analyst Suitable - 5.pdf',\n",
       " 'System Analyst Suitable - 6.pdf']"
      ]
     },
     "execution_count": 2,
     "metadata": {},
     "output_type": "execute_result"
    }
   ],
   "source": [
    "folder_path = \"C:/Users/iamki/Desktop/Capstone/Sample Resume\"\n",
    "files = [f for f in listdir(folder_path) if isfile(join(folder_path, f))]\n",
    "files = [f for f in files if \".txt\" not in f]\n",
    "jd_files = [f for f in files if \"Job Description\" in f]\n",
    "resume_files = [f for f in files if f not in jd_files]\n",
    "resume_files"
   ]
  },
  {
   "cell_type": "code",
   "execution_count": 3,
   "id": "79676b03",
   "metadata": {},
   "outputs": [],
   "source": [
    "# import aspose.words as aw\n",
    "from pdfminer.pdfinterp import PDFResourceManager, PDFPageInterpreter\n",
    "from pdfminer.converter import TextConverter\n",
    "from pdfminer.layout import LAParams\n",
    "from pdfminer.pdfpage import PDFPage\n",
    "from io import StringIO"
   ]
  },
  {
   "cell_type": "code",
   "execution_count": 4,
   "id": "34951673",
   "metadata": {},
   "outputs": [],
   "source": [
    "def pdf2Txt(folderPath, resumeFile):\n",
    "    rsrcmgr = PDFResourceManager()\n",
    "    retstr = StringIO()\n",
    "    codec = 'utf-8'\n",
    "    laparams = LAParams()\n",
    "    device = TextConverter(rsrcmgr, retstr, codec=codec, laparams=laparams)\n",
    "    fp = open(folderPath + \"/\" + resumeFile, \"rb\")\n",
    "    interpreter = PDFPageInterpreter(rsrcmgr, device)\n",
    "    password = \"\"\n",
    "    maxpages = 0\n",
    "    caching = True\n",
    "    pagenos=set()\n",
    "\n",
    "    for page in PDFPage.get_pages(fp, pagenos, maxpages=maxpages, password=password,caching=caching, check_extractable=True):\n",
    "        interpreter.process_page(page)\n",
    "\n",
    "    text = retstr.getvalue()\n",
    "    \n",
    "    with open(folderPath + \"/\" + resumeFile + \".txt\", \"w\", encoding = 'utf-8') as f:\n",
    "        f.write(\"\".join(text))\n",
    "\n",
    "    fp.close()\n",
    "    device.close()\n",
    "    retstr.close()\n",
    "    return folderPath + \"/\" + resumeFile + \".txt\""
   ]
  },
  {
   "cell_type": "markdown",
   "id": "43d04611",
   "metadata": {},
   "source": [
    "# Step 2: Extract and clean text"
   ]
  },
  {
   "cell_type": "markdown",
   "id": "9ca76bb8",
   "metadata": {},
   "source": [
    "### Function to open & read txt file"
   ]
  },
  {
   "cell_type": "code",
   "execution_count": 5,
   "id": "e0085b16",
   "metadata": {},
   "outputs": [],
   "source": [
    "def read(txtFile):\n",
    "    f = open(txtFile,encoding = 'ISO-8859-1')\n",
    "    text = f.readlines()\n",
    "    return text"
   ]
  },
  {
   "cell_type": "markdown",
   "id": "f46a405d",
   "metadata": {},
   "source": [
    "### Function to remove stopwords & lemmatize"
   ]
  },
  {
   "cell_type": "code",
   "execution_count": 6,
   "id": "24b52b84",
   "metadata": {},
   "outputs": [],
   "source": [
    "# STOPWORD REMOVAL\n",
    "def stopword(string):\n",
    "    a = [i for i in string.split() if i not in stopwords.words('english')]\n",
    "    return ' '.join(a)\n",
    "\n",
    "#LEMMATIZATION\n",
    "# Initialize the lemmatizer\n",
    "wl = WordNetLemmatizer()\n",
    " \n",
    "# This is a helper function to map NTLK position tags\n",
    "def get_wordnet_pos(tag):\n",
    "    if tag.startswith('J'):\n",
    "        return wordnet.ADJ\n",
    "    elif tag.startswith('V'):\n",
    "        return wordnet.VERB\n",
    "    elif tag.startswith('N'):\n",
    "        return wordnet.NOUN\n",
    "    elif tag.startswith('R'):\n",
    "        return wordnet.ADV\n",
    "    else:\n",
    "        return wordnet.NOUN\n",
    "    \n",
    "# Tokenize the sentence\n",
    "def lemmatizer(string):\n",
    "    # Get position tags\n",
    "    word_pos_tags = pos_tag(word_tokenize(string))\n",
    "    # Map the position tag and lemmatize the word/token\n",
    "    a = [wl.lemmatize(tag[0], get_wordnet_pos(tag[1])) for idx, tag in enumerate(word_pos_tags)]\n",
    "    return ' '.join(a)"
   ]
  },
  {
   "cell_type": "markdown",
   "id": "01ba2309",
   "metadata": {},
   "source": [
    "### Function to remove stopwords, lemmatize, clean txt file and remove regex"
   ]
  },
  {
   "cell_type": "code",
   "execution_count": 7,
   "id": "2d6643e8",
   "metadata": {},
   "outputs": [],
   "source": [
    "pat = '[a-zA-Z]+'"
   ]
  },
  {
   "cell_type": "code",
   "execution_count": 8,
   "id": "dee03229",
   "metadata": {},
   "outputs": [],
   "source": [
    "def getText(text):\n",
    "    i = 0\n",
    "    newtext = ''\n",
    "    for EachLine in text:\n",
    "        newtext += EachLine.lower()\n",
    "    # newtext = remove_noneng_nonskill(newtext)\n",
    "    newtext = stopword(newtext)\n",
    "    newtext = lemmatizer(newtext)\n",
    "    # newtext = remove_noneng_nonskill(newtext)\n",
    "    newtext_lst = re.findall(pat, newtext)\n",
    "    # print(newtext_lst)\n",
    "    if len(newtext_lst) <= 20:\n",
    "        return \" \".join(newtext_lst[0:len(newtext_lst)])\n",
    "    else:\n",
    "        return \" \".join(newtext_lst[9:len(newtext_lst)])"
   ]
  },
  {
   "cell_type": "markdown",
   "id": "af0dfe30",
   "metadata": {},
   "source": [
    "### Combining above functions"
   ]
  },
  {
   "cell_type": "code",
   "execution_count": 9,
   "id": "52c770c7",
   "metadata": {},
   "outputs": [],
   "source": [
    "def extractText(resumePath):\n",
    "    return getText(read(resumePath))"
   ]
  },
  {
   "cell_type": "markdown",
   "id": "71ece888",
   "metadata": {},
   "source": [
    "# Step 3: Extract skills from resumes"
   ]
  },
  {
   "cell_type": "code",
   "execution_count": 10,
   "id": "9c8ac936",
   "metadata": {},
   "outputs": [],
   "source": [
    "skills_csv = pd.read_csv('C:/Users/iamki/ML Prototyping (3)/ML Prototyping/skills_df_cleaned.csv')\n",
    "skill_list = skills_csv['name'].tolist()\n",
    "skill_list += [\n",
    "    \"itil\", \"php\", \"jquery\", \"javascript\" , \"bootstrap\", \"codeigniter\", \"visual\", \"c\", \"powerbuilder\", \"html\", \"css\",\n",
    "    \".net\", \"net\", \"crystal report\", \"xml\", \"soap\", \"rest\", \"boomi\", \"mssql\", \"mysql\", \"mariadb\", \"oracle\", \"apache\", \"iis\",\n",
    "    \"ubuntu\", \"linux\", \"magento\", \"api\", \"office\", \"asp\", \"sql\", \"ajax\", \"joomla\", \"tradenet\", \"as400\", \"programming\",\n",
    "    \"vba\", \"microsoft\", \"access\", \"excel\", \"suite\", \"six sigma\", \"project management\", \"sap\", \"word\", \"powerpoint\",\n",
    "    \"power point\", \"visio\", \"minitab\", \"flexsim\", \"certificate\", \"certified\", \"certification\", \"pmp\", \"ccna\",\n",
    "    \"cisa\", \"cissp\", \"crisc\", \"isms\", \"qlik\", \"power bi\", \"azure\", \"aspnet\", \"css\", \"git\", \"java\", \"mariadb\", \"unix\", \"oracle\",\n",
    "    \"sybase\"\n",
    "                  ]"
   ]
  },
  {
   "cell_type": "code",
   "execution_count": 11,
   "id": "75714d5e",
   "metadata": {},
   "outputs": [],
   "source": [
    "def getSkills(text):\n",
    "    skills = []\n",
    "    for word in skill_list:\n",
    "        if word in text:\n",
    "            skills.append(word)\n",
    "    return list(dict.fromkeys(skills))"
   ]
  },
  {
   "cell_type": "markdown",
   "id": "9c51b86e",
   "metadata": {},
   "source": [
    "# Model Training (not part of algorithm)"
   ]
  },
  {
   "cell_type": "markdown",
   "id": "ee04c5ba",
   "metadata": {},
   "source": [
    "## Creating dataframe to train model before packaging"
   ]
  },
  {
   "cell_type": "markdown",
   "id": "0193f11e",
   "metadata": {},
   "source": [
    "### Function to label resumes"
   ]
  },
  {
   "cell_type": "code",
   "execution_count": 12,
   "id": "948313a4",
   "metadata": {},
   "outputs": [],
   "source": [
    "def label(resumePath):\n",
    "    #Field Support Engineer\n",
    "    if \"Selected\" in resumePath and \"Field\" in resumePath and \"Not Suitable\" not in resumePath:\n",
    "        return \"Suitable for Field Support Engineer\"\n",
    "    elif \"Suitable\" in resumePath and \"Field\" in resumePath and \"Not Suitable\" not in resumePath:\n",
    "        return \"Suitable for Field Support Engineer\"\n",
    "    elif \"Rejected\" in resumePath and \"Field\" in resumePath:\n",
    "        return \"Not Suitable for Field Support Engineer\"\n",
    "    elif \"Not Suitable\" in resumePath and \"Field\" in resumePath:\n",
    "        return \"Not Suitable for Field Support Engineer\"\n",
    "    \n",
    "    #Systems Analyst\n",
    "    elif \"Selected\" in resumePath and \"System\" in resumePath and \"Not Suitable\" not in resumePath:\n",
    "        return \"Suitable for System Analyst\"\n",
    "    elif \"Suitable\" in resumePath and \"System\" in resumePath and \"Not Suitable\" not in resumePath:\n",
    "        return \"Suitable for System Analyst\"\n",
    "    elif \"Rejected\" in resumePath and \"System\" in resumePath:\n",
    "        return \"Not Suitable for System Analyst\"\n",
    "    elif \"Not Suitable\" in resumePath and \"System\" in resumePath:\n",
    "        return \"Not Suitable for System Analyst\"\n",
    "    \n",
    "    #GPIS Executive\n",
    "    elif \"Selected\" in resumePath and \"GPIS\" in resumePath and \"Not Suitable\" not in resumePath:\n",
    "        return \"Suitable for GPIS Executive\"\n",
    "    elif \"Suitable\" in resumePath and \"GPIS\" in resumePath and \"Not Suitable\" not in resumePath:\n",
    "        return \"Suitable for GPIS Executive\"\n",
    "    elif \"Rejected\" in resumePath and \"GPIS\" in resumePath:\n",
    "        return \"Not Suitable for GPIS Executive\"\n",
    "    elif \"Not Suitable\" in resumePath and \"GPIS\" in resumePath:\n",
    "        return \"Not Suitable for GPIS Executive\""
   ]
  },
  {
   "cell_type": "markdown",
   "id": "975869f9",
   "metadata": {},
   "source": [
    "### Function to get job applied using resume file name"
   ]
  },
  {
   "cell_type": "code",
   "execution_count": 13,
   "id": "87b82c33",
   "metadata": {},
   "outputs": [],
   "source": [
    "def jobApplied(resumePath):\n",
    "    if \"Field\" in resumePath:\n",
    "        return \"Field Support Engineer\"\n",
    "    elif \"GPIS\" in resumePath:\n",
    "        return \"GPIS Executive\"\n",
    "    else:\n",
    "        return \"System Analyst\""
   ]
  },
  {
   "cell_type": "code",
   "execution_count": 14,
   "id": "f3c98c1b",
   "metadata": {},
   "outputs": [],
   "source": [
    "def allResumesTrain(folderPath, resumeFiles):\n",
    "    output = []\n",
    "    for resume in resumeFiles:\n",
    "        # print(resume)\n",
    "        path = pdf2Txt(folderPath, resume)\n",
    "        job = jobApplied(resume)\n",
    "        resume_words = extractText(path)\n",
    "        skills = getSkills(resume_words)\n",
    "        data = [resume, job, resume_words, label(path), skills]\n",
    "        output.append(data)\n",
    "    return pd.DataFrame(output, columns = [\"Resume\", \"Job Applied\", \"Text\", \"Label\", \"Skills\"])"
   ]
  },
  {
   "cell_type": "code",
   "execution_count": 15,
   "id": "06b3db58",
   "metadata": {},
   "outputs": [
    {
     "data": {
      "text/html": [
       "<div>\n",
       "<style scoped>\n",
       "    .dataframe tbody tr th:only-of-type {\n",
       "        vertical-align: middle;\n",
       "    }\n",
       "\n",
       "    .dataframe tbody tr th {\n",
       "        vertical-align: top;\n",
       "    }\n",
       "\n",
       "    .dataframe thead th {\n",
       "        text-align: right;\n",
       "    }\n",
       "</style>\n",
       "<table border=\"1\" class=\"dataframe\">\n",
       "  <thead>\n",
       "    <tr style=\"text-align: right;\">\n",
       "      <th></th>\n",
       "      <th>Resume</th>\n",
       "      <th>Job Applied</th>\n",
       "      <th>Text</th>\n",
       "      <th>Label</th>\n",
       "      <th>Skills</th>\n",
       "    </tr>\n",
       "  </thead>\n",
       "  <tbody>\n",
       "    <tr>\n",
       "      <th>0</th>\n",
       "      <td>Field Support Not Suitable - 1.pdf</td>\n",
       "      <td>Field Support Engineer</td>\n",
       "      <td>danfoss singapore pte ltd international busine...</td>\n",
       "      <td>Not Suitable for Field Support Engineer</td>\n",
       "      <td>[corda, customer service, food preparation, hu...</td>\n",
       "    </tr>\n",
       "    <tr>\n",
       "      <th>1</th>\n",
       "      <td>Field Support Not Suitable - 2.pdf</td>\n",
       "      <td>Field Support Engineer</td>\n",
       "      <td>com singapore citizen availability immediate e...</td>\n",
       "      <td>Not Suitable for Field Support Engineer</td>\n",
       "      <td>[active directory, asset management, certified...</td>\n",
       "    </tr>\n",
       "    <tr>\n",
       "      <th>2</th>\n",
       "      <td>Field Support Not Suitable - 3.pdf</td>\n",
       "      <td>Field Support Engineer</td>\n",
       "      <td>personal information name address gender age n...</td>\n",
       "      <td>Not Suitable for Field Support Engineer</td>\n",
       "      <td>[active directory, antivirus software, arity, ...</td>\n",
       "    </tr>\n",
       "    <tr>\n",
       "      <th>3</th>\n",
       "      <td>Field Support Suitable - 1.pdf</td>\n",
       "      <td>Field Support Engineer</td>\n",
       "      <td>lawrencemark gmail com objective utilize vast ...</td>\n",
       "      <td>Suitable for Field Support Engineer</td>\n",
       "      <td>[active directory, computer engineering, compu...</td>\n",
       "    </tr>\n",
       "    <tr>\n",
       "      <th>4</th>\n",
       "      <td>Field Support Suitable - 2.pdf</td>\n",
       "      <td>Field Support Engineer</td>\n",
       "      <td>personal information name address gender age n...</td>\n",
       "      <td>Suitable for Field Support Engineer</td>\n",
       "      <td>[administrative support, asset management, bas...</td>\n",
       "    </tr>\n",
       "    <tr>\n",
       "      <th>...</th>\n",
       "      <td>...</td>\n",
       "      <td>...</td>\n",
       "      <td>...</td>\n",
       "      <td>...</td>\n",
       "      <td>...</td>\n",
       "    </tr>\n",
       "    <tr>\n",
       "      <th>157</th>\n",
       "      <td>System Analyst Suitable - 2.pdf</td>\n",
       "      <td>System Analyst</td>\n",
       "      <td>singapore aimarasigan hotmail com well experie...</td>\n",
       "      <td>Suitable for System Analyst</td>\n",
       "      <td>[acceptance testing, barcodes, business proces...</td>\n",
       "    </tr>\n",
       "    <tr>\n",
       "      <th>158</th>\n",
       "      <td>System Analyst Suitable - 3.pdf</td>\n",
       "      <td>System Analyst</td>\n",
       "      <td>passion support application provide customer s...</td>\n",
       "      <td>Suitable for System Analyst</td>\n",
       "      <td>[apache tomcat, basic a, banking, customer ser...</td>\n",
       "    </tr>\n",
       "    <tr>\n",
       "      <th>159</th>\n",
       "      <td>System Analyst Suitable - 4.pdf</td>\n",
       "      <td>System Analyst</td>\n",
       "      <td>z a orchard road ngee ann city tower singapore...</td>\n",
       "      <td>Suitable for System Analyst</td>\n",
       "      <td>[biology, business analysis, capacity manageme...</td>\n",
       "    </tr>\n",
       "    <tr>\n",
       "      <th>160</th>\n",
       "      <td>System Analyst Suitable - 5.pdf</td>\n",
       "      <td>System Analyst</td>\n",
       "      <td>princesa palawan sherlockbajenting gmail com o...</td>\n",
       "      <td>Suitable for System Analyst</td>\n",
       "      <td>[net framework, accounting, application develo...</td>\n",
       "    </tr>\n",
       "    <tr>\n",
       "      <th>161</th>\n",
       "      <td>System Analyst Suitable - 6.pdf</td>\n",
       "      <td>System Analyst</td>\n",
       "      <td>mobile email id suguthamarai gmail com objecti...</td>\n",
       "      <td>Suitable for System Analyst</td>\n",
       "      <td>[ampl, adaptability, asset management, automat...</td>\n",
       "    </tr>\n",
       "  </tbody>\n",
       "</table>\n",
       "<p>162 rows × 5 columns</p>\n",
       "</div>"
      ],
      "text/plain": [
       "                                 Resume             Job Applied  \\\n",
       "0    Field Support Not Suitable - 1.pdf  Field Support Engineer   \n",
       "1    Field Support Not Suitable - 2.pdf  Field Support Engineer   \n",
       "2    Field Support Not Suitable - 3.pdf  Field Support Engineer   \n",
       "3        Field Support Suitable - 1.pdf  Field Support Engineer   \n",
       "4        Field Support Suitable - 2.pdf  Field Support Engineer   \n",
       "..                                  ...                     ...   \n",
       "157     System Analyst Suitable - 2.pdf          System Analyst   \n",
       "158     System Analyst Suitable - 3.pdf          System Analyst   \n",
       "159     System Analyst Suitable - 4.pdf          System Analyst   \n",
       "160     System Analyst Suitable - 5.pdf          System Analyst   \n",
       "161     System Analyst Suitable - 6.pdf          System Analyst   \n",
       "\n",
       "                                                  Text  \\\n",
       "0    danfoss singapore pte ltd international busine...   \n",
       "1    com singapore citizen availability immediate e...   \n",
       "2    personal information name address gender age n...   \n",
       "3    lawrencemark gmail com objective utilize vast ...   \n",
       "4    personal information name address gender age n...   \n",
       "..                                                 ...   \n",
       "157  singapore aimarasigan hotmail com well experie...   \n",
       "158  passion support application provide customer s...   \n",
       "159  z a orchard road ngee ann city tower singapore...   \n",
       "160  princesa palawan sherlockbajenting gmail com o...   \n",
       "161  mobile email id suguthamarai gmail com objecti...   \n",
       "\n",
       "                                       Label  \\\n",
       "0    Not Suitable for Field Support Engineer   \n",
       "1    Not Suitable for Field Support Engineer   \n",
       "2    Not Suitable for Field Support Engineer   \n",
       "3        Suitable for Field Support Engineer   \n",
       "4        Suitable for Field Support Engineer   \n",
       "..                                       ...   \n",
       "157              Suitable for System Analyst   \n",
       "158              Suitable for System Analyst   \n",
       "159              Suitable for System Analyst   \n",
       "160              Suitable for System Analyst   \n",
       "161              Suitable for System Analyst   \n",
       "\n",
       "                                                Skills  \n",
       "0    [corda, customer service, food preparation, hu...  \n",
       "1    [active directory, asset management, certified...  \n",
       "2    [active directory, antivirus software, arity, ...  \n",
       "3    [active directory, computer engineering, compu...  \n",
       "4    [administrative support, asset management, bas...  \n",
       "..                                                 ...  \n",
       "157  [acceptance testing, barcodes, business proces...  \n",
       "158  [apache tomcat, basic a, banking, customer ser...  \n",
       "159  [biology, business analysis, capacity manageme...  \n",
       "160  [net framework, accounting, application develo...  \n",
       "161  [ampl, adaptability, asset management, automat...  \n",
       "\n",
       "[162 rows x 5 columns]"
      ]
     },
     "execution_count": 15,
     "metadata": {},
     "output_type": "execute_result"
    }
   ],
   "source": [
    "Corpus = allResumesTrain(folder_path, resume_files)\n",
    "Corpus"
   ]
  },
  {
   "cell_type": "code",
   "execution_count": 16,
   "id": "289e1def",
   "metadata": {},
   "outputs": [
    {
     "name": "stdout",
     "output_type": "stream",
     "text": [
      "Class=0, n=3 (1.852%)\n",
      "Class=3, n=6 (3.704%)\n",
      "Class=1, n=83 (51.235%)\n",
      "Class=4, n=41 (25.309%)\n",
      "Class=2, n=23 (14.198%)\n",
      "Class=5, n=6 (3.704%)\n",
      "{'Not Suitable for Field Support Engineer': 0, 'Not Suitable for GPIS Executive': 1, 'Not Suitable for System Analyst': 2, 'Suitable for Field Support Engineer': 3, 'Suitable for GPIS Executive': 4, 'Suitable for System Analyst': 5}\n"
     ]
    }
   ],
   "source": [
    "X, y = Corpus[\"Text\"], Corpus[\"Label\"]\n",
    "Encoder = LabelEncoder()\n",
    "y = Encoder.fit_transform(y)\n",
    "counter = Counter(y)\n",
    "for k, v in counter.items():\n",
    "    per = v/len(y) * 100\n",
    "    print('Class=%d, n=%d (%.3f%%)' % (k, v, per))\n",
    "    \n",
    "# pyplot.bar(counter.keys(), counter.values())\n",
    "# pyplot.show()\n",
    "\n",
    "le_name_mapping = dict(zip(Encoder.classes_, Encoder.transform(Encoder.classes_)))\n",
    "print(le_name_mapping)"
   ]
  },
  {
   "cell_type": "code",
   "execution_count": 17,
   "id": "18953737",
   "metadata": {},
   "outputs": [],
   "source": [
    "tfidf = TfidfVectorizer(ngram_range=(1,2))    \n",
    "X_tfidf = tfidf.fit_transform(X)"
   ]
  },
  {
   "cell_type": "code",
   "execution_count": 18,
   "id": "13a9924d",
   "metadata": {},
   "outputs": [
    {
     "name": "stdout",
     "output_type": "stream",
     "text": [
      "Counter({0: 83, 3: 83, 1: 83, 4: 83, 2: 83, 5: 83})\n"
     ]
    }
   ],
   "source": [
    "oversample = SMOTE(sampling_strategy='not majority', k_neighbors=2, random_state=42)\n",
    "# oversample = RandomOverSampler(sampling_strategy = 'not majority')\n",
    "X_tfidf, y = oversample.fit_resample(X_tfidf, y)\n",
    "print(Counter(y))"
   ]
  },
  {
   "cell_type": "code",
   "execution_count": 19,
   "id": "79f6960b",
   "metadata": {},
   "outputs": [],
   "source": [
    "X_train_tfidf, X_test_tfidf, y_train, y_test = model_selection.train_test_split(X_tfidf, y, test_size=0.2, random_state=42)"
   ]
  },
  {
   "cell_type": "code",
   "execution_count": 20,
   "id": "fda25184",
   "metadata": {},
   "outputs": [
    {
     "name": "stdout",
     "output_type": "stream",
     "text": [
      "              precision    recall  f1-score   support\n",
      "\n",
      "           0       1.00      1.00      1.00        12\n",
      "           1       0.79      0.96      0.87        24\n",
      "           2       1.00      1.00      1.00        15\n",
      "           3       1.00      1.00      1.00        13\n",
      "           4       0.90      0.60      0.72        15\n",
      "           5       1.00      1.00      1.00        21\n",
      "\n",
      "    accuracy                           0.93       100\n",
      "   macro avg       0.95      0.93      0.93       100\n",
      "weighted avg       0.94      0.93      0.93       100\n",
      "\n",
      "SVM Accuracy Score ->  93.0\n",
      "\n",
      "\n",
      "Precision: 0.935344827586207\n",
      "Recall: 0.93\n",
      "F-score: 0.9263018867924528\n",
      "Support: None\n",
      "\n",
      "\n",
      "Cross Validation accuracy scores: [0.95       0.9        0.95       0.925      0.95       0.975\n",
      " 1.         1.         1.         0.92307692]\n",
      "Cross Validation accuracy: 0.957 +/- 0.034\n"
     ]
    },
    {
     "data": {
      "image/png": "[encoded data removed]",
      "text/plain": [
       "<Figure size 432x288 with 2 Axes>"
      ]
     },
     "metadata": {
      "needs_background": "light"
     },
     "output_type": "display_data"
    }
   ],
   "source": [
    "# Classifier - Algorithm - SVM\n",
    "# fit the training dataset on the classifier\n",
    "SVM = svm.SVC(kernel='linear', gamma='auto', probability = True)\n",
    "SVM.fit(X_train_tfidf, y_train)\n",
    "\n",
    "# predict the labels on validation dataset\n",
    "predictions_SVM = SVM.predict(X_test_tfidf)\n",
    "\n",
    "# Classification report\n",
    "print(classification_report(y_test, predictions_SVM))\n",
    "\n",
    "# Use accuracy_score function to get the accuracy\n",
    "print(\"SVM Accuracy Score -> \", accuracy_score(predictions_SVM, y_test)*100)\n",
    "print(\"\\n\")\n",
    "# Confusion matrix\n",
    "plot_confusion_matrix(SVM, X_test_tfidf, y_test)\n",
    "\n",
    "precision, recall, f1score, support = precision_recall_fscore_support(y_test, predictions_SVM, average='weighted')\n",
    "print('Precision: {}'.format(precision))\n",
    "print('Recall: {}'.format(recall))\n",
    "print('F-score: {}'.format(f1score))\n",
    "print('Support: {}'.format(support))\n",
    "print(\"\\n\")\n",
    "\n",
    "scores = model_selection.cross_val_score(SVM, X_train_tfidf, y_train, cv=10, n_jobs=1)\n",
    "print('Cross Validation accuracy scores: %s' % scores)\n",
    "print('Cross Validation accuracy: %.3f +/- %.3f' % (np.mean(scores),np.std(scores)))"
   ]
  },
  {
   "cell_type": "markdown",
   "id": "782fe485",
   "metadata": {},
   "source": [
    "# Function to create dataframe of new resumes to parse into trained model"
   ]
  },
  {
   "cell_type": "markdown",
   "id": "2db35ad9",
   "metadata": {},
   "source": [
    "### folder_path will be directory where you store resumes"
   ]
  },
  {
   "cell_type": "code",
   "execution_count": 21,
   "id": "9e2576fc",
   "metadata": {},
   "outputs": [],
   "source": [
    "# Function to extract text and relevant information from all resume files\n",
    "folder_path = \"C:/Users/iamki/Desktop/Capstone/Sample Resume\"\n",
    "def allResumes(folderPath, resumeFiles):\n",
    "    output = []\n",
    "    for resume in resumeFiles:\n",
    "        path = pdf2Txt(folderPath, resume)\n",
    "        job = jobApplied(resume)\n",
    "        resume_words = extractText(path)\n",
    "        skills = getSkills(resume_words)\n",
    "        data = [resume, job, resume_words, skills]\n",
    "        output.append(data)\n",
    "        df = pd.DataFrame(output, columns = [\"Resume\", \"Job Applied\", \"Text\", \"Skills\"])\n",
    "    return df"
   ]
  },
  {
   "cell_type": "markdown",
   "id": "3c504ee4",
   "metadata": {},
   "source": [
    "# Step 4: Vectorize text using TF-IDF"
   ]
  },
  {
   "cell_type": "code",
   "execution_count": 22,
   "id": "85794ee4",
   "metadata": {},
   "outputs": [],
   "source": [
    "def vectorize_dfText(df):\n",
    "    return tfidf.transform(df[\"Text\"])"
   ]
  },
  {
   "cell_type": "markdown",
   "id": "d2d0db61",
   "metadata": {},
   "source": [
    "# Step 5: Use SVM model to make predictions"
   ]
  },
  {
   "cell_type": "code",
   "execution_count": 23,
   "id": "fade7a33",
   "metadata": {},
   "outputs": [],
   "source": [
    "def predSuit(tfidf_SVM):\n",
    "    predictions = SVM.predict_proba(tfidf_SVM)\n",
    "    return np.round(predictions, decimals=5)*100"
   ]
  },
  {
   "cell_type": "code",
   "execution_count": 24,
   "id": "40a967f2",
   "metadata": {},
   "outputs": [
    {
     "name": "stdout",
     "output_type": "stream",
     "text": [
      "{'Not Suitable for Field Support Engineer': 0, 'Not Suitable for GPIS Executive': 1, 'Not Suitable for System Analyst': 2, 'Suitable for Field Support Engineer': 3, 'Suitable for GPIS Executive': 4, 'Suitable for System Analyst': 5}\n"
     ]
    }
   ],
   "source": [
    "le_name_mapping = dict(zip(Encoder.classes_, Encoder.transform(Encoder.classes_)))\n",
    "print(le_name_mapping)"
   ]
  },
  {
   "cell_type": "markdown",
   "id": "2e90a21a",
   "metadata": {},
   "source": [
    "# Step 6: Package model"
   ]
  },
  {
   "cell_type": "markdown",
   "id": "4a97bee2",
   "metadata": {},
   "source": [
    "## Combine all the functions"
   ]
  },
  {
   "cell_type": "code",
   "execution_count": 25,
   "id": "54f81866",
   "metadata": {},
   "outputs": [],
   "source": [
    "def model(folderPath, resumeFiles):\n",
    "    resumes_df = allResumes(folderPath, resumeFiles)\n",
    "    vectors = vectorize_dfText(resumes_df)\n",
    "    predictions = predSuit(vectors)\n",
    "    #print(predictions)\n",
    "    predictions_df = pd.DataFrame(predictions, columns = [\"Not Suitable for Field Support Engineer\",\n",
    "                             \"Not Suitable for GPIS Executive\",\n",
    "                             \"Not Suitable for System Analyst\",\n",
    "                             \"Suitable for Field Support Engineer\",\n",
    "                             \"Suitable for GPIS Executive\",\n",
    "                             \"Suitable for System Analyst\"\n",
    "                            ])\n",
    "    df_final = pd.concat([resumes_df, predictions_df], axis=1)\n",
    "    return df_final"
   ]
  },
  {
   "cell_type": "code",
   "execution_count": 26,
   "id": "3744a764",
   "metadata": {},
   "outputs": [],
   "source": [
    "model_pickle = pickle.dump(model, open('finalisedModel.pkl', 'wb'))\n",
    "# model_pickle = pickle.dump(model, open('finalisedModel_classBalanced.sav', 'wb'))"
   ]
  },
  {
   "cell_type": "code",
   "execution_count": 27,
   "id": "ab4c7710",
   "metadata": {},
   "outputs": [],
   "source": [
    "# Loading text extraction + vectorizing object + model\n",
    "load_model = pickle.load(open('finalisedModel.pkl', 'rb'))\n",
    "# load_model = pickle.load(open('finalisedModel_classBalanced.sav', 'rb'))"
   ]
  },
  {
   "cell_type": "code",
   "execution_count": 28,
   "id": "6f062188",
   "metadata": {},
   "outputs": [],
   "source": [
    "# load_model(folder_path, resume_files)"
   ]
  }
 ],
 "metadata": {
  "kernelspec": {
   "display_name": "Python 3 (ipykernel)",
   "language": "python",
   "name": "python3"
  },
  "language_info": {
   "codemirror_mode": {
    "name": "ipython",
    "version": 3
   },
   "file_extension": ".py",
   "mimetype": "text/x-python",
   "name": "python",
   "nbconvert_exporter": "python",
   "pygments_lexer": "ipython3",
   "version": "3.9.12"
  }
 },
 "nbformat": 4,
 "nbformat_minor": 5
}
